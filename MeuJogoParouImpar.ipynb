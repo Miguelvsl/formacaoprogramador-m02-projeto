{
  "nbformat": 4,
  "nbformat_minor": 0,
  "metadata": {
    "colab": {
      "provenance": []
    },
    "kernelspec": {
      "name": "python3",
      "display_name": "Python 3"
    },
    "language_info": {
      "name": "python"
    }
  },
  "cells": [
    {
      "cell_type": "code",
      "execution_count": null,
      "metadata": {
        "colab": {
          "base_uri": "https://localhost:8080/"
        },
        "id": "n5Cj5RVCPAjP",
        "outputId": "086578dd-3e8f-4fe6-f825-3a795fb7d16c"
      },
      "outputs": [
        {
          "output_type": "stream",
          "name": "stdout",
          "text": [
            "-> Digite o nome do primeiro jogador:MIGUEL\n",
            "-> Digite o nome do segundo jogador:JEFFERSON\n",
            "// quem escolhe primeiro, MIGUEL ou JEFFERSON?\n",
            "-> Digite 1 para escolher MIGUEL ou 2 para escolher JEFFERSON.2\n",
            "// Digite 0 para escolher QUARTA ou 1 para escolher SEXTA\n",
            "-> JEFFERSON, você quer SEXTA ou QUARTA ?SEXTA\n",
            "//MIGUEL, você ficou com a QUARTA.\n",
            "JEFFERSON, escolha um numero:76\n",
            "MIGUEL, escolha um numero:58\n",
            "// MIGUEL venceu!\n"
          ]
        }
      ],
      "source": [
        "jogador1 = input('-> Digite o nome do primeiro jogador:')\n",
        "jogador2 = input('-> Digite o nome do segundo jogador:')\n",
        "\n",
        "print(f'// quem escolhe primeiro, {jogador1} ou {jogador2}?')\n",
        "primeiro_jogador = input(f'-> Digite 1 para escolher {jogador1} ou 2 para escolher {jogador2}.')\n",
        "segundo_jogador = None\n",
        "\n",
        "if primeiro_jogador =='1':\n",
        "  primeiro_jogador = jogador1\n",
        "  segundo_jogador = jogador2\n",
        "\n",
        "elif primeiro_jogador =='2':\n",
        "  primeiro_jogador = jogador2\n",
        "  segundo_jogador = jogador1\n",
        "\n",
        "print ('// Digite 0 para escolher QUARTA ou 1 para escolher SEXTA')\n",
        "escolha = input (f'-> {primeiro_jogador}, você quer SEXTA ou QUARTA ?')\n",
        "escolha2 = None\n",
        "\n",
        "if escolha == 'SEXTA' or escolha == 'SEXTA' or escolha == '1':\n",
        "  escolha = 'SEXTA'\n",
        "  escolha2 = 'QUARTA'\n",
        "\n",
        "elif escolha == 'QUARTA' or escolha == '0':\n",
        "  escolha = 'QUARTA'\n",
        "  escolha2 = 'SEXTA'\n",
        "\n",
        "print(f'//{segundo_jogador}, você ficou com a {escolha2}.')\n",
        "\n",
        "numero1 = int(input(f'{primeiro_jogador}, escolha um numero:'))\n",
        "numero2 = int(input(f'{segundo_jogador}, escolha um numero:'))\n",
        "\n",
        "soma = numero1 + numero2\n",
        "\n",
        "if soma % 2 == 0:\n",
        "  vencedor = 'QUARTA'\n",
        "else:\n",
        "  vencedor = 'SEXTA,'\n",
        "\n",
        "if vencedor == escolha:\n",
        "  print(f'// {primeiro_jogador} venceu!')\n",
        "else:\n",
        "  print(f'// {segundo_jogador} venceu!')\n",
        "\n",
        "\n",
        "\n",
        "\n",
        "\n",
        "\n",
        "\n",
        "\n"
      ]
    },
    {
      "cell_type": "code",
      "source": [],
      "metadata": {
        "id": "TR7A7dTBgiki"
      },
      "execution_count": null,
      "outputs": []
    }
  ]
}